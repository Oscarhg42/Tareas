{
 "cells": [
  {
   "cell_type": "markdown",
   "metadata": {},
   "source": [
    "### Ejercicio 1\n",
    "\n",
    "En clase vimos que la función `bits` permite ver la representación binaria de números de punto flotante (`Float64`) o de enteros (e.g., `Int64`). En particular, para números de punto flotante, el primer bit es el signo, los siguiente 11 son el *exponente* y el resto es la representación binaria (sin el 1 del principio), del número en cuestión.\n",
    "\n",
    "La pregunta es ¿qué significa el exponente?\n",
    "\n",
    "```julia\n",
    "bits(0.1)\n",
    "\"0111111111110000000000000000000000000000000000000000000000000000\"\n",
    "```"
   ]
  },
  {
   "cell_type": "markdown",
   "metadata": {
    "collapsed": true
   },
   "source": [
    "**Respuesta**\n",
    "La representacion binaria de un numero de punto flotante se basa en la idea de la notación cientifica.\n",
    "Por ejemplo 5850 km se pueden escribir como $5.85 \\times 10^3 m $.  En este ejemplo tenemos una base, que denotaremos por B, un conjunto de números significativos, a los cuales se les denomina *matissa* (denotados ppor la letra M), y un exponente denotado por la letra *e*. Es decir tenemos:\n",
    "   \n",
    "   $$ M \\times B^e$$\n",
    "\n",
    "La idea de los numeros de punto flotante en una computadora de 64 (ó 32 bits) de precisión, es que en una representación binaria como \"0111111111110000000000000000000000000000000000000000000000000000\", el primer dígito indica el signo, los siguientes 11 números corresponden al exponente *\"e\"* y  los últimos 52 son las cifras significativas llamados *\"matissa\"* M.\n",
    "\n",
    "Entonces el punto decimal, tal como en la notación científica, está determinado por el exponente asociado, por ejemplo cambiando el exponente  de la expresión $5.469\\times10^2$ a $5.469\\times 10^5$ cambiamos el verdadero lugar del punto decimal de $546.9$ a $546900.00$. Por eso se les llama números de punto flotante.\n",
    "\n",
    "Eso es en abstracto pero no he encontrado la manera de convertir el exponente en una representacion de 64 bits.\n",
    "\n",
    "\n",
    "\n"
   ]
  },
  {
   "cell_type": "code",
   "execution_count": 10,
   "metadata": {
    "collapsed": false
   },
   "outputs": [
    {
     "data": {
      "text/plain": [
       "\"1011111111000000000000000000000000000000000000000000000000000000\""
      ]
     },
     "execution_count": 10,
     "metadata": {},
     "output_type": "execute_result"
    }
   ],
   "source": [
    "bits(-.125)"
   ]
  },
  {
   "cell_type": "markdown",
   "metadata": {},
   "source": [
    "### Ejercicio 2\n",
    "\n",
    "- ¿Cuál es el número más chico que sumado (o restado) a 1.0 me da algo distinto de 1.0?\n",
    "(Este número se bautiza como el \"épsilon de la máquina\")\n",
    "\n",
    "- ¿Cuál es el número más chico que sumado (o restado) a 10.0 me da algo distinto de 10.0?\n"
   ]
  },
  {
   "cell_type": "markdown",
   "metadata": {},
   "source": [
    "**Respuesta**\n",
    "Intentare hacer un pequeño programita que haga un ciclo para comparar algunas cantidades."
   ]
  },
  {
   "cell_type": "code",
   "execution_count": 26,
   "metadata": {
    "collapsed": false
   },
   "outputs": [
    {
     "name": "stdout",
     "output_type": "stream",
     "text": [
      "52\n",
      "El epsilon de la maquina es 2.220446049250313e-16\n"
     ]
    }
   ],
   "source": [
    "x=1\n",
    "cont=0\n",
    "while 1+x/2>1\n",
    "    cont=cont+1\n",
    "    x=x*0.5  \n",
    "end\n",
    "println(cont)\n",
    "println(\"El epsilon de la maquina es \",x)"
   ]
  },
  {
   "cell_type": "markdown",
   "metadata": {},
   "source": [
    "### Ejercicio 3\n",
    "\n",
    "Define una functión llamada `derivada1` que implemente el cálculo de:\n",
    "\n",
    "$$\n",
    "\\frac{\\Delta f(x)}{\\Delta x}(x_0) = \\frac{f(x_0+h)-f(x_0)}{h}\n",
    "$$\n",
    "\n",
    "Obviamente esta función es una aproximación *finita* de la derivada. La pregunta es ¿qué tan buena es esta aproximación, pensando en términos de $h$?\n",
    "\n",
    "- La primer sub-pregunta es ¿cómo se responde este tipo de pregunta?\n",
    "- Uno tiene que tomar un caso concreto (para $f(x_0,h)$); sugiero empezar con un polinomio con coeficientes enteros, y después hacer el mismo tipo de pruebas con una función trascendental.\n",
    "- ¿Hay algo *sorprendente* en el comportamiento de `derivada1` como función de $h$? ¿A qué lo puedes atribuir?\n",
    "- ¿Puedes hacer que la función `derivada1` funcione para funciones más o menos arbitrarias, que el usuario define?\n",
    "- ¿Puedes explicar de alguna manera los resultados que has obtenido?"
   ]
  },
  {
   "cell_type": "markdown",
   "metadata": {},
   "source": [
    "**Primera subrespuesta**\n",
    "Para saber que tan buena es una aproximación debemos poder comaprar los resultados del la aproximación finita de la derivada con  los valores exactos de la derivada; como los valores de la aproximación cambiarán en función de $h$, esperaríamos que el error sea fución de h, esto es: $err(h)$. Utilizando el concepto de epsilon de la maquina nos gustaria que el parametro $h$ satisfaga una igualdad del tipo: \n",
    "\n",
    "$$ err(h) =  abs[f'(x_0)-derivada1(x_0)] \\geq \\epsilon   $$\n",
    "\n",
    "Con $f'(x_0)$ siendo el valor exacto de la derivada.\n",
    "Para hacer esto definamos el polinomio $f(x)=5x^2+4x+1$ e iniciemos con un valor $h=0.125$"
   ]
  },
  {
   "cell_type": "code",
   "execution_count": 31,
   "metadata": {
    "collapsed": false
   },
   "outputs": [
    {
     "name": "stdout",
     "output_type": "stream",
     "text": [
      "La derivada de f en x=4 es 44\n",
      "La aproximación finita en x=4es 44.625\n",
      "El error es0.625\n"
     ]
    }
   ],
   "source": [
    "f(x)=5x^2+4x+1\n",
    "fp(x)=10x+4\n",
    "h=0.125\n",
    "derivada1(x)=(f(x+h)-f(x))/h\n",
    "err(x)=abs(fp(x)-derivada1(x))\n",
    "println(\"La derivada de f en x=4 es \",fp(4))\n",
    "println(\"La aproximación finita en x=4es \",derivada1(4))\n",
    "println(\"El error es \",err(4))"
   ]
  },
  {
   "cell_type": "markdown",
   "metadata": {},
   "source": [
    "Para conocer el comportamiento de derivada1(x) como función de $h$ vamos a arreglar el codigo anterior en forma de ciclo y probaremos para distintas $h's$"
   ]
  },
  {
   "cell_type": "code",
   "execution_count": 35,
   "metadata": {
    "collapsed": false
   },
   "outputs": [
    {
     "name": "stdout",
     "output_type": "stream",
     "text": [
      "La derivada de f en x=4 es 44\n",
      "h en este paso vale 0.125\n",
      "La aproximación finita en x=4es 44.625\n",
      "El error es 0.625\n",
      "\n",
      "h en este paso vale 0.0625\n",
      "La aproximación finita en x=4es 44.3125\n",
      "El error es 0.3125\n",
      "\n",
      "h en este paso vale 0.020833333333333332\n",
      "La aproximación finita en x=4es 44.10416666666606\n",
      "El error es 0.10416666666606034\n",
      "\n",
      "h en este paso vale 0.005208333333333333\n",
      "La aproximación finita en x=4es 44.02604166666242\n",
      "El error es 0.026041666662422358\n",
      "\n",
      "h en este paso vale 0.0010416666666666667\n",
      "La aproximación finita en x=4es 44.00520833333758\n",
      "El error es 0.005208333337577642\n",
      "\n",
      "h en este paso vale 0.00017361111111111112\n",
      "La aproximación finita en x=4es 44.00086805560932\n",
      "El error es 0.0008680556093167979\n",
      "\n",
      "h en este paso vale 2.48015873015873e-5\n",
      "La aproximación finita en x=4es 44.00012400748892\n",
      "El error es 0.00012400748892105184\n",
      "\n",
      "h en este paso vale 3.1001984126984127e-6\n",
      "La aproximación finita en x=4es 44.00001549736771\n",
      "El error es 1.5497367712669075e-5\n",
      "\n",
      "h en este paso vale 3.4446649029982366e-7\n",
      "La aproximación finita en x=4es 44.00000166329846\n",
      "El error es 1.6632984625175595e-6\n",
      "\n",
      "h en este paso vale 3.444664902998237e-8\n",
      "La aproximación finita en x=4es 44.000000384403386\n",
      "El error es 3.844033855671114e-7\n",
      "\n"
     ]
    }
   ],
   "source": [
    "f(x)=5x^2+4x+1\n",
    "fp(x)=10x+4\n",
    "h=0.125\n",
    "derivada1(x)=(f(x+h)-f(x))/h\n",
    "err(x)=abs(fp(x)-derivada1(x))\n",
    " println(\"La derivada de f en x=4 es \",fp(4))\n",
    "for i in 1:10\n",
    "    h=h/i\n",
    "    println(\"h en este paso vale \",h)\n",
    "    println(\"La aproximación finita en x=4es \",derivada1(4))\n",
    "    println(\"El error es \",err(4))\n",
    "    println()\n",
    "    \n",
    "end"
   ]
  },
  {
   "cell_type": "markdown",
   "metadata": {},
   "source": [
    "### Ejercicio 4\n",
    "\n",
    "Este ejercicio es equivalente al anterior, pero considerando la función `derivada2` que implemente el cálculo de:\n",
    "\n",
    "$$\n",
    "\\frac{\\Delta f(x)}{\\Delta x}(x_0) = \\frac{f(x_0+h)-f(x_0-h)}{2h}\n",
    "$$\n",
    "\n",
    "¿Puedes explicar por qué la convergencia es mejor en este caso?\n"
   ]
  },
  {
   "cell_type": "markdown",
   "metadata": {},
   "source": [
    "### Ejercicio 5\n",
    "\n",
    "Manda el notebook con tus resultados haciendo un pull-request al repositorio del curso. Para hacer esto:\n",
    "- Haz un `fork` del repositorio del curso a tu propia cuenta en GitHub\n",
    "- Una vez que tengas resuelto el notebook, súbelo a **tu** repositorio (con `git push`), en la carpeta \"tareas/usuario_github/nombre_notebook\"\n",
    "- Desde tu repositorio, haz un \"Pull Request\". El *pull request* sólo se aceptará si es legible en el sentido más amplio de la palabra y, obviamente, si es correcto. Esto significa que debe ser *entendible*, a partir de lo que ustedes escriben, incluso para gente que no está en el curso. (Como GitHub es público, piensen fríamente que esto puede ser leido por *muuucha* gente allá afuera.) Si el trabajo es en colaboración, háganlo saber en el propio notebook (cosa que se debe notar en el historial de lo que envíen). Finalmente, como código ético, incluyan cualquier fuente de inspiración, incluso cuando se trate del notebook de otro compañero/equipo del curso."
   ]
  },
  {
   "cell_type": "code",
   "execution_count": null,
   "metadata": {
    "collapsed": true
   },
   "outputs": [],
   "source": []
  }
 ],
 "metadata": {
  "kernelspec": {
   "display_name": "Julia 0.3.11",
   "language": "julia",
   "name": "julia-0.3"
  },
  "language_info": {
   "name": "julia",
   "version": "0.3.11"
  }
 },
 "nbformat": 4,
 "nbformat_minor": 0
}
